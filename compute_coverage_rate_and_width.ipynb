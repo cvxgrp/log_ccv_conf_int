{
 "cells": [
  {
   "cell_type": "code",
   "execution_count": 1,
   "metadata": {},
   "outputs": [],
   "source": [
    "import pickle\n",
    "from scipy.interpolate import interp1d\n",
    "import numpy as np\n",
    "import csv\n",
    "import os\n",
    "\n",
    "from scipy.stats import norm\n",
    "from scipy.stats import beta\n",
    "from scipy.stats import gamma\n",
    "from scipy.stats import chi2\n",
    "from scipy.stats import gennorm"
   ]
  },
  {
   "cell_type": "markdown",
   "metadata": {},
   "source": [
    "## directory to read pkl data and save csv table"
   ]
  },
  {
   "cell_type": "code",
   "execution_count": 13,
   "metadata": {},
   "outputs": [],
   "source": [
    "ff = \"result_data/coverage_90/pkl/\"\n",
    "# ff = \"result_data/coverage_95/pkl/\""
   ]
  },
  {
   "cell_type": "code",
   "execution_count": 100,
   "metadata": {},
   "outputs": [],
   "source": [
    "dist = \"gamma\" # \"gamma\" \"uniform\" \"chisq\" \"gaussian\"\n",
    "n = 1000 # 100 1000"
   ]
  },
  {
   "cell_type": "markdown",
   "metadata": {},
   "source": [
    "## read data"
   ]
  },
  {
   "cell_type": "code",
   "execution_count": 101,
   "metadata": {},
   "outputs": [],
   "source": [
    "already_read_pkl_file = False\n",
    "\n",
    "for _,_,files in os.walk(ff):\n",
    "    for my_file in files:\n",
    "        if my_file.endswith(\".pkl\") and (\"_\" + str(n) + \"_\" in my_file) and (dist in my_file):\n",
    "            with open(ff + my_file,\"rb\") as file_obj:\n",
    "                pkl_obj = pickle.load(file_obj, encoding='latin1')\n",
    "                already_read_pkl_file = True\n",
    "                break\n",
    "                \n",
    "    if already_read_pkl_file:\n",
    "        break\n",
    "\n",
    "if not already_read_pkl_file:\n",
    "    print(\"file does not exist!\")"
   ]
  },
  {
   "cell_type": "markdown",
   "metadata": {},
   "source": [
    "## compute coverage and width"
   ]
  },
  {
   "cell_type": "code",
   "execution_count": 102,
   "metadata": {},
   "outputs": [],
   "source": [
    "df = 3\n",
    "coverage_1 = [] #at design points\n",
    "coverage_2 = [] #sec 2.4 interpolation, at design points and extended points\n",
    "coverage_3 = [] #linearly interpolated upper bound, at grid points\n",
    "coverage_4 = [] #sec 2.4 iterpolation, at grid points.\n",
    "\n",
    "ave_first_quartile_width = []\n",
    "ave_median_width = []\n",
    "ave_third_quartile_width = []\n",
    "\n",
    "run_time = []\n",
    "\n",
    "for repeat in range(1000):\n",
    "    if not dist + str(repeat) + \"_design_pts\" in pkl_obj:\n",
    "#         print(\"missing\", repeat)\n",
    "        continue\n",
    "    design_pts = pkl_obj[dist + str(repeat) + \"_design_pts\"]\n",
    "    num_design_pts = len(design_pts)\n",
    "    opt_pts = pkl_obj[dist + str(repeat) + \"_opt_design_pts\"]\n",
    "    # hi at design points\n",
    "    hi_opt_pts = pkl_obj[dist + str(repeat) + \"_hi\"]\n",
    "    # lo at design points\n",
    "    lo_opt_pts = pkl_obj[dist + str(repeat) + \"_lo\"]\n",
    "#     improved_lo_opt_pts = stuff[dist + str(repeat) + \"_improved_lo\"]\n",
    "    extended_x = pkl_obj[dist + str(repeat) + \"_extended_x\"]\n",
    "    # hi at extended points\n",
    "    improved_lo_extended_pts = pkl_obj[dist + str(repeat) + \"_extended_lo\"]\n",
    "    # lo at extended points\n",
    "    improved_hi_extended_pts = pkl_obj[dist + str(repeat) + \"_extended_hi\"]\n",
    "    \n",
    "    #################################################################################compute width\n",
    "    first_sample_quartile = design_pts[num_design_pts // 4]\n",
    "    sample_median = design_pts[num_design_pts // 2]\n",
    "    third_sample_quartile = design_pts[int(num_design_pts // 4 * 3)]\n",
    "    first_quartile_idx_in_opt_pts = np.argmin(np.abs(opt_pts - first_sample_quartile))\n",
    "    median_idx_in_opt_pts = np.argmin(np.abs(opt_pts - sample_median))\n",
    "    third_quartile_idx_in_opt_pts = np.argmin(np.abs(opt_pts - third_sample_quartile))\n",
    "    #the bucket\n",
    "#     separate_point_12 = (opt_pts[first_quartile_idx_in_opt_pts] + opt_pts[median_idx_in_opt_pts]) / 2\n",
    "#     separate_point_23 = (opt_pts[third_quartile_idx_in_opt_pts] + opt_pts[median_idx_in_opt_pts]) / 2\n",
    "#     w1 = np.mean(hi_opt_pts[opt_pts <= separate_point_12] - lo_opt_pts[opt_pts <= separate_point_12])\n",
    "#     w3 = np.mean(hi_opt_pts[opt_pts >= separate_point_23] - lo_opt_pts[opt_pts >= separate_point_23])\n",
    "#     w2 = np.mean(hi_opt_pts[np.multiply(opt_pts >= separate_point_12, opt_pts <= separate_point_23)] \n",
    "#                  - lo_opt_pts[np.multiply(opt_pts >= separate_point_12, opt_pts <= separate_point_23)])\n",
    "    w1 = hi_opt_pts[first_quartile_idx_in_opt_pts] - lo_opt_pts[first_quartile_idx_in_opt_pts]\n",
    "    w2 = hi_opt_pts[median_idx_in_opt_pts] - lo_opt_pts[median_idx_in_opt_pts]\n",
    "    w3 = hi_opt_pts[third_quartile_idx_in_opt_pts] - lo_opt_pts[third_quartile_idx_in_opt_pts]\n",
    "    ave_first_quartile_width.append(w1)\n",
    "    ave_median_width.append(w2)\n",
    "    ave_third_quartile_width.append(w3)\n",
    "    \n",
    "    ###############################################################################compute coverage\n",
    "    x_grid = np.linspace(np.min(opt_pts), np.max(opt_pts), num=10000, endpoint=True)\n",
    "    if dist == \"uniform\":\n",
    "        f_opt_pts = 1.0/20 * np.ones(len(opt_pts))\n",
    "        f_ext_pts = 1.0/20 * np.ones(len(extended_x))\n",
    "        f_grid = 1.0/20 * np.ones(len(x_grid))\n",
    "    elif dist == \"gaussian\":\n",
    "        f_opt_pts = norm.pdf(opt_pts)\n",
    "        f_ext_pts = norm.pdf(extended_x)\n",
    "        f_grid = norm.pdf(x_grid)\n",
    "    elif dist == \"gamma\":\n",
    "        f_opt_pts = gamma.pdf(opt_pts, 1.0)\n",
    "        f_ext_pts = gamma.pdf(extended_x, 1.0)\n",
    "        f_grid = gamma.pdf(x_grid, 1.0)\n",
    "    elif dist == \"chisq\":\n",
    "        f_opt_pts = chi2.pdf(opt_pts, df)\n",
    "        f_ext_pts = chi2.pdf(extended_x, df)\n",
    "        f_grid = chi2.pdf(x_grid, df)\n",
    "    elif (dist == \"gennorm\"):\n",
    "        f_opt_pts = gennorm.pdf(opt_pts, beta=4)\n",
    "        f_ext_pts = gennorm.pdf(extended_x, df)\n",
    "        f_grid = gennorm.pdf(x_grid, df)\n",
    "    else:\n",
    "        print(\"distribution not supported\")\n",
    "        break\n",
    "        \n",
    "    if np.all(hi_opt_pts >= f_opt_pts) and np.all(lo_opt_pts <= f_opt_pts):#design points\n",
    "        coverage_1.append(1)\n",
    "    else:\n",
    "        coverage_1.append(0)\n",
    "        \n",
    "    if np.all(improved_hi_extended_pts >= f_ext_pts) and np.all(improved_lo_extended_pts <= f_ext_pts):#extended points\n",
    "        coverage_2.append(1)\n",
    "    else:\n",
    "        coverage_2.append(0)\n",
    "    \n",
    "    l_log_func = interp1d(opt_pts, np.log(lo_opt_pts))\n",
    "    h_func = interp1d(opt_pts, hi_opt_pts)\n",
    "    if np.all(h_func(x_grid) >= f_grid) and np.all(np.exp(l_log_func(x_grid)) <= f_grid):#linear upper bound; grid\n",
    "        coverage_3.append(1)\n",
    "    else:\n",
    "        coverage_3.append(0)\n",
    "        \n",
    "    l_log_ext_func = interp1d(extended_x, np.log(improved_lo_extended_pts))\n",
    "    h_log_ext_func = interp1d(extended_x, np.log(improved_hi_extended_pts))\n",
    "    if np.all(np.exp(h_log_ext_func(x_grid)) >= f_grid) and np.all(np.exp(l_log_ext_func(x_grid)) <= f_grid):#M_i upper bound; grid\n",
    "        coverage_4.append(1)\n",
    "    else:\n",
    "        coverage_4.append(0)\n",
    "    \n",
    "    run_time.append(pkl_obj[dist + str(repeat) + \"_run_time\"])"
   ]
  },
  {
   "cell_type": "markdown",
   "metadata": {},
   "source": [
    "## print results"
   ]
  },
  {
   "cell_type": "code",
   "execution_count": 103,
   "metadata": {},
   "outputs": [
    {
     "name": "stdout",
     "output_type": "stream",
     "text": [
      "coverage rate 1 = 0.9738955823293173\n",
      "coverage rate 2 = 0.9738955823293173\n",
      "coverage rate 3 = 0.9738955823293173\n",
      "coverage rate 4 = 0.9738955823293173\n"
     ]
    }
   ],
   "source": [
    "print(\"coverage rate 1 =\", sum(coverage_1) / len(coverage_1))\n",
    "print(\"coverage rate 2 =\",sum(coverage_2) / len(coverage_2))\n",
    "print(\"coverage rate 3 =\",sum(coverage_3) / len(coverage_3))\n",
    "print(\"coverage rate 4 =\",sum(coverage_4) / len(coverage_4))"
   ]
  },
  {
   "cell_type": "code",
   "execution_count": 104,
   "metadata": {},
   "outputs": [
    {
     "name": "stdout",
     "output_type": "stream",
     "text": [
      "ave. width first quartile = 0.4307294746938602\n",
      "ave. width second quartile = 0.2910047014050355\n",
      "ave. width third quartile = 0.1676586293294805\n"
     ]
    }
   ],
   "source": [
    "covered_mask = np.array(coverage_3) == 1\n",
    "ave_covered_first_quartile_width = np.array(ave_first_quartile_width)#[covered_mask]\n",
    "ave_covered_median_width = np.array(ave_median_width)#[covered_mask]\n",
    "ave_covered_third_quartile_width = np.array(ave_third_quartile_width)#[covered_mask]\n",
    "print(\"ave. width first quartile =\", np.mean(np.array(ave_covered_first_quartile_width)))\n",
    "print(\"ave. width second quartile =\", np.mean(np.array(ave_covered_median_width)))\n",
    "print(\"ave. width third quartile =\", np.mean(np.array(ave_covered_third_quartile_width)))"
   ]
  },
  {
   "cell_type": "code",
   "execution_count": 105,
   "metadata": {},
   "outputs": [
    {
     "name": "stdout",
     "output_type": "stream",
     "text": [
      "ave. runtime = 140.43205112123107\n"
     ]
    }
   ],
   "source": [
    "print(\"ave. runtime =\", np.mean(np.array(run_time)))"
   ]
  },
  {
   "cell_type": "markdown",
   "metadata": {},
   "source": [
    "## save result"
   ]
  },
  {
   "cell_type": "code",
   "execution_count": 106,
   "metadata": {},
   "outputs": [],
   "source": [
    "save = True\n",
    "if save:\n",
    "    with open(ff + \"coverage_rates_band_widths.csv\", mode=\"a\") as file_obj:\n",
    "        csv_obj = csv.writer(file_obj, delimiter=\",\") # , quotechar='\"', quoting=csv.QUOTE_MINIMAL\n",
    "        csv_obj.writerow([dist, n, \n",
    "                          np.mean(np.array(coverage_1)), np.mean(np.array(coverage_2)),\n",
    "                          np.mean(np.array(coverage_3)), np.mean(np.array(coverage_4)),\n",
    "                          np.mean(np.array(run_time)),\n",
    "                          np.mean(np.array(ave_covered_first_quartile_width)),\n",
    "                          np.mean(np.array(ave_covered_median_width)),\n",
    "                          np.mean(np.array(ave_covered_third_quartile_width))\n",
    "                          ])\n",
    "        file_obj.close()"
   ]
  },
  {
   "cell_type": "markdown",
   "metadata": {},
   "source": [
    "## plot histogram"
   ]
  },
  {
   "cell_type": "code",
   "execution_count": 107,
   "metadata": {},
   "outputs": [],
   "source": [
    "import matplotlib\n",
    "matplotlib.use('Agg')\n",
    "import matplotlib.pyplot as plt\n",
    "%matplotlib inline"
   ]
  },
  {
   "cell_type": "code",
   "execution_count": 108,
   "metadata": {},
   "outputs": [
    {
     "data": {
      "text/plain": [
       "<matplotlib.legend.Legend at 0x7f836b9771d0>"
      ]
     },
     "execution_count": 108,
     "metadata": {},
     "output_type": "execute_result"
    },
    {
     "data": {
      "image/png": "[encoded data removed]",
      "text/plain": [
       "<Figure size 432x288 with 1 Axes>"
      ]
     },
     "metadata": {
      "needs_background": "light"
     },
     "output_type": "display_data"
    }
   ],
   "source": [
    "plt.hist(ave_first_quartile_width, label=\"first quartile\", alpha=0.8, bins=100)\n",
    "plt.hist(ave_median_width, label=\"median\", alpha=0.8, bins=100)\n",
    "plt.hist(ave_third_quartile_width, label=\"third quartile\", alpha=0.8, bins=100)\n",
    "plt.title(\"Histogram of Band Width\", fontsize=14)\n",
    "plt.legend(fontsize=14)"
   ]
  },
  {
   "cell_type": "code",
   "execution_count": 82,
   "metadata": {},
   "outputs": [
    {
     "data": {
      "text/plain": [
       "Text(0.5, 1.0, 'Histogram of Run Time')"
      ]
     },
     "execution_count": 82,
     "metadata": {},
     "output_type": "execute_result"
    },
    {
     "data": {
      "image/png": "[encoded data removed]",
      "text/plain": [
       "<Figure size 432x288 with 1 Axes>"
      ]
     },
     "metadata": {
      "needs_background": "light"
     },
     "output_type": "display_data"
    }
   ],
   "source": [
    "plt.hist(run_time, bins=100)\n",
    "plt.title(\"Histogram of Run Time\", fontsize=14)"
   ]
  },
  {
   "cell_type": "code",
   "execution_count": null,
   "metadata": {},
   "outputs": [],
   "source": [
    "# All done."
   ]
  },
  {
   "cell_type": "code",
   "execution_count": null,
   "metadata": {},
   "outputs": [],
   "source": []
  }
 ],
 "metadata": {
  "kernelspec": {
   "display_name": "Python 3",
   "language": "python",
   "name": "python3"
  },
  "language_info": {
   "codemirror_mode": {
    "name": "ipython",
    "version": 3
   },
   "file_extension": ".py",
   "mimetype": "text/x-python",
   "name": "python",
   "nbconvert_exporter": "python",
   "pygments_lexer": "ipython3",
   "version": "3.7.6"
  }
 },
 "nbformat": 4,
 "nbformat_minor": 4
}
