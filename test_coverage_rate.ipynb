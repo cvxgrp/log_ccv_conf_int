{
 "cells": [
  {
   "cell_type": "code",
   "execution_count": 1,
   "metadata": {},
   "outputs": [],
   "source": [
    "import numpy as np\n",
    "from scipy.stats import norm\n",
    "from scipy.stats import beta\n",
    "from scipy.stats import gamma\n",
    "from scipy.stats import chi2\n",
    "\n",
    "import csv\n",
    "import pickle\n",
    "import datetime\n",
    "\n",
    "import autograd.numpy as np\n",
    "import matplotlib\n",
    "matplotlib.use('Agg')\n",
    "import matplotlib.pyplot as plt\n",
    "\n",
    "from confint_withoutg_linear_modification import confint\n",
    "\n",
    "np.random.seed(0)"
   ]
  },
  {
   "cell_type": "code",
   "execution_count": 2,
   "metadata": {},
   "outputs": [],
   "source": [
    "n = 100\n",
    "d = 1\n",
    "alpha = 0.05\n",
    "dist = \"gaussian\"\n",
    "df = 3\n",
    "thread_num = 8\n",
    "mu = 8.0\n",
    "M = 8.0\n",
    "tau_max = 1e3\n",
    "max_iters = 30\n",
    "modification = 3"
   ]
  },
  {
   "cell_type": "code",
   "execution_count": 3,
   "metadata": {},
   "outputs": [],
   "source": [
    "repeat_times = 1\n",
    "coverage_rates = np.zeros(repeat_times)\n",
    "entire_band_coverage_rates = np.zeros(repeat_times)\n",
    "\n",
    "now = datetime.datetime.now()\n",
    "mmddyyhhmm = (\"%d_%d_%d_%d_%d\" % (now.month, now.day, now.year, now.hour, now.minute))\n",
    "part_of_out_fn = dist + \"_n_\" + str(n) + \"_mod_\" + str(modification) + \"_uid_\" + mmddyyhhmm\n",
    "\n",
    "stuff = {}\n",
    "is_save = False"
   ]
  },
  {
   "cell_type": "code",
   "execution_count": 4,
   "metadata": {},
   "outputs": [
    {
     "name": "stdout",
     "output_type": "stream",
     "text": [
      "('num design points to optimize', 8)\n",
      "setup workers\n",
      "('worker received', 2, 'begin ccp iterations')\n",
      "('worker received', 0, 'begin ccp iterations')\n",
      "('worker received', 1, 'begin ccp iterations')\n",
      "('worker received', 6, 'begin ccp iterations')\n",
      "('worker received', 8, 'begin ccp iterations')\n",
      "('worker received', 9, 'begin ccp iterations')\n",
      "('worker received', 10, 'begin ccp iterations')\n",
      "('worker received', 12, 'begin ccp iterations')\n",
      "  quitting early ...\n",
      "  quitting early ...\n",
      "  quitting early ...\n",
      "('minimizing over ell[', 8, ']:', 'result: objf (i.e., log prob)=', -1.9102503974625948, 'slack sum=', 8.763398373795366e-13, 'tau=', 1000.0, 'prob.status=', 'optimal', 'num of iters', 11)\n",
      "('minimizing over ell[', 1, ']:', 'result: objf (i.e., log prob)=', -3.2194790423095716, 'slack sum=', 1.0921587873311145e-10, 'tau=', 1000.0, 'prob.status=', 'optimal', 'num of iters', 11)\n",
      "('minimizing over ell[', 0, ']:', 'result: objf (i.e., log prob)=', -8.0, 'slack sum=', 2.5801199718737053e-10, 'tau=', 1000.0, 'prob.status=', 'optimal', 'num of iters', 10)\n",
      "  quitting early ...\n",
      "('minimizing over ell[', 10, ']:', 'result: objf (i.e., log prob)=', -2.390329824369257, 'slack sum=', 1.4066939849123385e-11, 'tau=', 1000.0, 'prob.status=', 'optimal', 'num of iters', 11)\n",
      "  quitting early ...\n",
      "('minimizing over ell[', 2, ']:', 'result: objf (i.e., log prob)=', -2.5032953906750404, 'slack sum=', 7.999684912418149e-11, 'tau=', 1000.0, 'prob.status=', 'optimal', 'num of iters', 11)\n",
      "  quitting early ...\n",
      "('minimizing over ell[', 12, ']:', 'result: objf (i.e., log prob)=', -8.0, 'slack sum=', 2.5801199718737053e-10, 'tau=', 1000.0, 'prob.status=', 'optimal', 'num of iters', 10)\n",
      "  quitting early ...\n",
      "('minimizing over ell[', 9, ']:', 'result: objf (i.e., log prob)=', -2.12132660527851, 'slack sum=', 5.249924954587623e-13, 'tau=', 1000.0, 'prob.status=', 'optimal', 'num of iters', 11)\n",
      "  quitting early ...\n",
      "('minimizing over ell[', 6, ']:', 'result: objf (i.e., log prob)=', -1.7184343719540323, 'slack sum=', 5.712004557998612e-11, 'tau=', 1000.0, 'prob.status=', 'optimal', 'num of iters', 12)\n",
      "  quitting early ...\n",
      "('maximizing over ell[', 1, ']:', 'result: objf (i.e., log prob)=', -0.9600628281271173, 'slack sum=', 4.03943070220215e-15, 'tau=', 1000.0, 'prob.status=', 'optimal', 'num of iters', 10)\n",
      "  quitting early ...\n",
      "  quitting early ...\n",
      "('maximizing over ell[', 10, ']:', 'result: objf (i.e., log prob)=', -0.4469035835749171, 'slack sum=', 1.3103537767008175e-10, 'tau=', 1000.0, 'prob.status=', 'optimal', 'num of iters', 10)\n",
      "('maximizing over ell[', 8, ']:', 'result: objf (i.e., log prob)=', -0.09677485112015383, 'slack sum=', 3.1113846391480385e-14, 'tau=', 1000.0, 'prob.status=', 'optimal', 'num of iters', 10)\n",
      "  quitting early ...\n",
      "('maximizing over ell[', 2, ']:', 'result: objf (i.e., log prob)=', -0.1862762847410302, 'slack sum=', 6.156947560153271e-11, 'tau=', 1000.0, 'prob.status=', 'optimal', 'num of iters', 10)\n",
      "  quitting early ...\n",
      "('maximizing over ell[', 12, ']:', 'result: objf (i.e., log prob)=', -0.8238426761358761, 'slack sum=', 3.832354823910262e-12, 'tau=', 1000.0, 'prob.status=', 'optimal', 'num of iters', 10)\n",
      "  quitting early ...\n",
      "('maximizing over ell[', 9, ']:', 'result: objf (i.e., log prob)=', -0.20086887541566809, 'slack sum=', 3.255917640199113e-15, 'tau=', 1000.0, 'prob.status=', 'optimal', 'num of iters', 10)\n",
      "  quitting early ...\n",
      "('maximizing over ell[', 6, ']:', 'result: objf (i.e., log prob)=', -0.102540375634665, 'slack sum=', 8.904980882938554e-11, 'tau=', 1000.0, 'prob.status=', 'optimal', 'num of iters', 10)\n",
      "  quitting early ...\n",
      "('maximizing over ell[', 0, ']:', 'result: objf (i.e., log prob)=', -1.922989249362856, 'slack sum=', 2.4400763281513882e-11, 'tau=', 1000.0, 'prob.status=', 'optimal', 'num of iters', 11)\n",
      "('invalid test point index', inf)\n",
      "('invalid test point index', inf)\n",
      "('invalid test point index', inf)\n",
      "('invalid test point index', inf)\n",
      "('invalid test point index', inf)\n",
      "('invalid test point index', inf)\n",
      "('invalid test point index', inf)\n",
      "('invalid test point index', inf)\n",
      "('outer loop', 0, [0.00033546262790251185, 0.03997587857830773, 0.08181494170079842, 0.0, 0.0, 0.0, 0.17934671847200506, 0.0, 0.14804331228424933, 0.11987249949352025, 0.09159946715819388, 0.0, 0.00033546262790251185], [0.14616937172148198, 0.3828688302878945, 0.830044234742585, 0.0, 0.0, 0.0, 0.9025417083229724, 0.0, 0.9077603643561004, 0.8180196870132269, 0.6396055737848565, 0.0, 0.43874246587872673])\n",
      "('outer loop', 1, [0.00033546262790251185, 0.03997587857830773, 0.08181494170079842, 0.0, 0.0, 0.0, 0.17934671847200506, 0.0, 0.14804331228424933, 0.11987249949352025, 0.09159946715819388, 0.0, 0.00033546262790251185], [0.14616937172148198, 0.3828688302878945, 0.830044234742585, 0.0, 0.0, 0.0, 0.9025417083229724, 0.0, 0.9077603643561004, 0.8180196870132269, 0.6396055737848565, 0.0, 0.43874246587872673])\n",
      "('Done. Data:', array([-2.55298982, -1.42001794, -0.90729836, -0.67246045, -0.38732682,\n",
      "       -0.18718385,  0.05616534,  0.17742614,  0.40015721,  0.6536186 ,\n",
      "        0.97663904,  1.45427351,  1.89588918]))\n",
      "('lo =', [0.00033546262790251185, 0.03997587857830773, 0.08181494170079842, 0.0, 0.0, 0.0, 0.17934671847200506, 0.0, 0.14804331228424933, 0.11987249949352025, 0.09159946715819388, 0.0, 0.00033546262790251185])\n",
      "('hi = ', [0.14616937172148198, 0.3828688302878945, 0.830044234742585, 0.0, 0.0, 0.0, 0.9025417083229724, 0.0, 0.9077603643561004, 0.8180196870132269, 0.6396055737848565, 0.0, 0.43874246587872673])\n",
      "('lo slack =', [2.5801199718737053e-10, 1.0921587873311145e-10, 7.999684912418149e-11, 0.0, 0.0, 0.0, 5.712004557998612e-11, 0.0, 8.763398373795366e-13, 5.249924954587623e-13, 1.4066939849123385e-11, 0.0, 2.5801199718737053e-10])\n",
      "('number of lo slack >= tol:', 0)\n",
      "('high slack = ', [2.4400763281513882e-11, 4.03943070220215e-15, 6.156947560153271e-11, 0.0, 0.0, 0.0, 8.904980882938554e-11, 0.0, 3.1113846391480385e-14, 3.255917640199113e-15, 1.3103537767008175e-10, 0.0, 3.832354823910262e-12])\n",
      "('number of hi slack >= tol:', 0)\n",
      "('time cost: setup workers: ', 0.032685041427612305, 'algorithm:', 1.710071086883545)\n",
      "('number of nans', 0)\n",
      "(0, 1.0, 1.0)\n"
     ]
    }
   ],
   "source": [
    "for repeat in range(repeat_times):\n",
    "# Create problem data\n",
    "    if (dist == \"gaussian\"):\n",
    "        X = np.random.randn(n)\n",
    "\n",
    "    elif (dist == \"gamma\"):\n",
    "        X = np.random.gamma(shape=1.0, size=n)\n",
    "\n",
    "    elif (dist == \"chisq\"):\n",
    "        X = np.random.chisquare(df=df, size=n)\n",
    "\n",
    "    elif(dist == \"uniform\"):\n",
    "        X = np.random.uniform(low=-3, high=3, size=n)\n",
    "\n",
    "    elif(dist == \"mixture\"):\n",
    "        n_minus1 = n / 2\n",
    "        n_plus1 = n - n_minus1\n",
    "        X = np.concatenate([-2 + np.random.randn(n_minus1), 2 + np.random.randn(n_plus1)])\n",
    "    else:\n",
    "        print(\"ERROR: unsupported distribution\")\n",
    "\n",
    "    X = np.sort(X)\n",
    "\n",
    "    opt_pts_ratio = 0.5 #subsampling ratio from design points to optimize over\n",
    "\n",
    "    conf_int = confint(n, X, alpha, opt_pts_ratio=opt_pts_ratio)\n",
    "    conf_int.compute_pw_conf_ints(thread_num, M, tau_max, mu, max_iters, modification=modification)\n",
    "\n",
    "    design_pts = X[conf_int.idxes_of_design_pts]\n",
    "\n",
    "    conf_int.remove_nan()\n",
    "    \n",
    "    opt_pts = X[conf_int.idxes_of_design_pts_to_opt]\n",
    "\n",
    "    conf_int.improve_bounds()\n",
    "\n",
    "    stuff[dist + str(repeat) + \"X\"] = X\n",
    "    stuff[dist + str(repeat) + \"design_pts\"] = design_pts\n",
    "    stuff[dist + str(repeat) + \"opt_pts\"] = opt_pts\n",
    "    stuff[dist + str(repeat) + \"lo_opt_opts\"] = conf_int.lo_opt_pts\n",
    "    stuff[dist + str(repeat) + \"hi_opt_opts\"] = conf_int.hi_opt_pts\n",
    "    stuff[dist + str(repeat) + \"x_evaluate\"] = conf_int.improved_hi_at_x\n",
    "    stuff[dist + str(repeat) + \"improved_lo\"] = conf_int.improved_lo_opt_pts\n",
    "    stuff[dist + str(repeat) + \"improved_hi\"] = conf_int.improved_hi_opt_pts\n",
    "\n",
    "    ground_truth = norm.pdf(opt_pts)\n",
    "#     ground_truth = np.log(1.0 / 6.0 * np.ones(len(opt_pts)))\n",
    "#     ground_truth = norm.pdf(opt_pts, loc=-2) + norm.pdf(opt_pts, loc=2)\n",
    "#     ground_truth = np.log(gamma.pdf(opt_pts, 1.0))\n",
    "    x_evaluate_list = list(conf_int.improved_hi_at_x)\n",
    "    count = 0\n",
    "    w = []\n",
    "    w_rel = []\n",
    "    for i in range(len(opt_pts)):\n",
    "        idx = x_evaluate_list.index(opt_pts[i])\n",
    "        if (ground_truth[i] >= conf_int.improved_lo_opt_pts[i] \n",
    "            and ground_truth[i] <= conf_int.improved_hi_opt_pts[idx]):\n",
    "            count += 1\n",
    "        w.append(conf_int.improved_hi_opt_pts[i] - conf_int.improved_lo_opt_pts[i])\n",
    "        w_rel.append(w[-1] / ground_truth[i])\n",
    "    coverage_rate = count * 1.0 / len(opt_pts)\n",
    "    coverage_rates[repeat] = coverage_rate\n",
    "    if coverage_rate == 1.0:\n",
    "        entire_band_coverage_rates[repeat] = 1.0\n",
    "    print(repeat, coverage_rate, entire_band_coverage_rates[repeat])\n",
    "    if is_save:\n",
    "        with open(\"coverage_rates_%s.csv\" % (part_of_out_fn), mode=\"a\") as file_obj:\n",
    "            csv_obj = csv.writer(file_obj, delimiter=\",\") # , quotechar='\"', quoting=csv.QUOTE_MINIMAL\n",
    "            csv_obj.writerow([\"trial\"+str(repeat), dist, coverage_rate, entire_band_coverage_rates[repeat]])\n",
    "            file_obj.close()\n",
    "    w_ave = np.mean(np.array(w))\n",
    "    if is_save:\n",
    "        with open(\"band_width_%s.csv\" % (part_of_out_fn), mode=\"a\") as file_obj:\n",
    "            csv_obj = csv.writer(file_obj, delimiter=\",\")\n",
    "            csv_obj.writerow([\"trial\"+str(repeat), dist, w_ave, w])\n",
    "            file_obj.close()\n",
    "    if is_save:\n",
    "        with open(\"band_width_ground_truth_ratio_%s.csv\" % (part_of_out_fn), mode=\"a\") as file_obj2:\n",
    "            csv_obj2 = csv.writer(file_obj2, delimiter=\",\")\n",
    "            w_rel_ave = np.mean(np.array(w_rel))        \n",
    "            csv_obj2.writerow([\"trial\"+str(repeat), dist, w_rel_ave, w_rel])\n",
    "            file_obj2.close()"
   ]
  },
  {
   "cell_type": "code",
   "execution_count": 5,
   "metadata": {},
   "outputs": [
    {
     "name": "stdout",
     "output_type": "stream",
     "text": [
      "[1.]\n",
      "[1.]\n"
     ]
    }
   ],
   "source": [
    "print(coverage_rates)\n",
    "print(entire_band_coverage_rates)\n",
    "if is_save:\n",
    "    pickle.dump(stuff, open(\"data_%s.pkl\" % (part_of_out_fn), \"wb\"))"
   ]
  },
  {
   "cell_type": "code",
   "execution_count": 6,
   "metadata": {},
   "outputs": [
    {
     "data": {
      "text/plain": [
       "Text(0,0.5,'$\\\\log f$')"
      ]
     },
     "execution_count": 6,
     "metadata": {},
     "output_type": "execute_result"
    },
    {
     "data": {
      "image/png": "[encoded data removed]",
      "text/plain": [
       "<Figure size 432x288 with 1 Axes>"
      ]
     },
     "metadata": {
      "needs_background": "light"
     },
     "output_type": "display_data"
    }
   ],
   "source": [
    "%matplotlib inline\n",
    "\n",
    "plt.figure()\n",
    "plt.subplot(111)\n",
    "plt.plot(opt_pts, np.log(conf_int.lo_opt_pts), '-o', linewidth=2.0, label=\"L\")\n",
    "plt.plot(opt_pts, np.log(conf_int.hi_opt_pts), '-o', linewidth=2.0, label=\"H\")\n",
    "plt.plot(opt_pts, np.log(conf_int.improved_lo_opt_pts), '-+', linewidth=2.0, label=\"improved L\")\n",
    "plt.plot(conf_int.improved_hi_at_x, np.log(conf_int.improved_hi_opt_pts), '-+', linewidth=2.0, label=\"improved H\")\n",
    "plt.plot(opt_pts, np.log(norm.pdf(opt_pts)), label=\"ground truth\")\n",
    "plt.legend(loc=4)\n",
    "plt.ylabel(\"$\\log f$\")"
   ]
  },
  {
   "cell_type": "code",
   "execution_count": null,
   "metadata": {},
   "outputs": [],
   "source": []
  }
 ],
 "metadata": {
  "kernelspec": {
   "display_name": "Python 2",
   "language": "python",
   "name": "python2"
  },
  "language_info": {
   "codemirror_mode": {
    "name": "ipython",
    "version": 2
   },
   "file_extension": ".py",
   "mimetype": "text/x-python",
   "name": "python",
   "nbconvert_exporter": "python",
   "pygments_lexer": "ipython2",
   "version": "2.7.16"
  }
 },
 "nbformat": 4,
 "nbformat_minor": 2
}
