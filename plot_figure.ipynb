{
 "cells": [
  {
   "cell_type": "code",
   "execution_count": 17,
   "metadata": {},
   "outputs": [],
   "source": [
    "import numpy as np\n",
    "import pandas as pd\n",
    "\n",
    "import matplotlib\n",
    "import matplotlib.pyplot as plt\n",
    "matplotlib.rcParams['pdf.fonttype'] = 42\n",
    "matplotlib.rcParams['ps.fonttype'] = 42\n",
    "%matplotlib inline\n",
    "import seaborn as sns\n",
    "from matplotlib.ticker import FormatStrFormatter\n",
    "\n",
    "from scipy.stats import norm\n",
    "from scipy.stats import beta\n",
    "from scipy.stats import gamma\n",
    "from scipy.stats import chi2\n",
    "from scipy.stats import gennorm\n",
    "\n",
    "import pickle\n",
    "import datetime\n",
    "import time\n",
    "import os\n",
    "import csv"
   ]
  },
  {
   "cell_type": "markdown",
   "metadata": {},
   "source": [
    "## directory to read pkl data and save figures"
   ]
  },
  {
   "cell_type": "code",
   "execution_count": 21,
   "metadata": {},
   "outputs": [],
   "source": [
    "ff = \"data_revision1/coverage_95/pkl/\""
   ]
  },
  {
   "cell_type": "code",
   "execution_count": 22,
   "metadata": {},
   "outputs": [],
   "source": [
    "dist = \"gamma\" # \"gennorm\" \"gamma\" \"uniform\" \"chisq\" \"gaussian\"\n",
    "n = 1000 # 10000 # 100 1000"
   ]
  },
  {
   "cell_type": "markdown",
   "metadata": {},
   "source": [
    "## read data"
   ]
  },
  {
   "cell_type": "code",
   "execution_count": 23,
   "metadata": {},
   "outputs": [],
   "source": [
    "already_read_pkl_file = False\n",
    "\n",
    "for _,_,files in os.walk(ff):\n",
    "    for my_file in files:\n",
    "        if my_file.endswith(\".pkl\") and (\"_\" + str(n) + \"_\" in my_file) and (dist in my_file):\n",
    "            with open(ff + my_file,\"rb\") as file_obj:\n",
    "                pkl_obj = pickle.load(file_obj, encoding='latin1')\n",
    "                \n",
    "                X = pkl_obj[dist + \"0_sample_pts\"]\n",
    "                \n",
    "                design_pts = pkl_obj[dist + \"0_design_pts\"]\n",
    "                m = len(design_pts)\n",
    "                data_range = np.max(design_pts) - np.min(design_pts)\n",
    "                \n",
    "                lo = pkl_obj[dist + \"0_lo\"]\n",
    "                hi = pkl_obj[dist + \"0_hi\"]\n",
    "                opt_pts = pkl_obj[dist + \"0_opt_design_pts\"]\n",
    "                \n",
    "                already_read_pkl_file = True\n",
    "                break\n",
    "                \n",
    "    if already_read_pkl_file:\n",
    "        break\n",
    "\n",
    "if not already_read_pkl_file:\n",
    "    print(\"file does not exist!\")"
   ]
  },
  {
   "cell_type": "code",
   "execution_count": 24,
   "metadata": {},
   "outputs": [],
   "source": [
    "# print(pkl_obj.keys())"
   ]
  },
  {
   "cell_type": "code",
   "execution_count": 25,
   "metadata": {},
   "outputs": [],
   "source": [
    "# print(lo)"
   ]
  },
  {
   "cell_type": "code",
   "execution_count": 26,
   "metadata": {},
   "outputs": [],
   "source": [
    "# print(hi)"
   ]
  },
  {
   "cell_type": "markdown",
   "metadata": {},
   "source": [
    "## plot band"
   ]
  },
  {
   "cell_type": "code",
   "execution_count": 27,
   "metadata": {},
   "outputs": [],
   "source": [
    "fontsize = 14\n",
    "colors = sns.color_palette(\"bright\") # colors = [\"blue\", \"crimson\", \"darkorchid\"]\n",
    "my_alpha = 0.7"
   ]
  },
  {
   "cell_type": "code",
   "execution_count": 28,
   "metadata": {},
   "outputs": [],
   "source": [
    "def plot_band(dist, X, design_pts, hi, lo, opt_pts, ff, my_alpha, log_scale=False):\n",
    "    \n",
    "    sns.set(style=\"ticks\")\n",
    "    f,a = plt.subplots(figsize=(8,5))\n",
    "\n",
    "    if(dist == \"gaussian\"):\n",
    "        my_label = \"Gaussian density\"\n",
    "        pdf = norm.pdf(X)\n",
    "\n",
    "    elif(dist == \"gamma\"):\n",
    "        my_label = \"Gamma density\"\n",
    "        pdf = gamma.pdf(X,1.0)\n",
    "\n",
    "    elif(dist == \"chisq\"):\n",
    "        my_label = \"Chi-squared density\"\n",
    "        pdf = chi2.pdf(X, 3)\n",
    "\n",
    "    elif(dist == \"uniform\"):\n",
    "        my_label = \"Uniform density\"\n",
    "        pdf = 1./20*np.ones(n)\n",
    "\n",
    "    elif(dist == \"mixture\"):\n",
    "        my_label = \"Mixture\"\n",
    "        \n",
    "        pdf = norm.pdf(X,loc=-2) + norm.pdf(X,loc=2)\n",
    "        \n",
    "    elif(dist == \"gennorm\"):\n",
    "        my_label = \"Generalized normal density\"\n",
    "        \n",
    "        pdf = gennorm.pdf(X, beta=4)\n",
    "        \n",
    "    else:\n",
    "        print(\"ERROR: unsupported distribution\")\n",
    "\n",
    "    if log_scale:\n",
    "        pdf = np.log(pdf)        \n",
    "    a.plot(X, pdf, linestyle=\"-\", color=\"black\", linewidth=\"2\", label=my_label)\n",
    "\n",
    "    if log_scale:\n",
    "        hi = np.log(hi)\n",
    "        lo = np.log(lo)\n",
    "    a.fill_between(opt_pts, lo, hi, facecolor=\"gray\", alpha=0.2, linewidth=0)\n",
    "\n",
    "    if log_scale:\n",
    "        if dist == \"chisq\" or dist == \"gamma\":\n",
    "            bottom_of_plot = -8\n",
    "        elif dist == \"gaussian\":\n",
    "            bottom_of_plot = -12\n",
    "        elif dist == \"uniform\":\n",
    "            bottom_of_plot = -5\n",
    "        else:\n",
    "            bottom_of_plot = np.min(lo)\n",
    "        a.set_ylim([bottom_of_plot,0])\n",
    "        \n",
    "        a.plot(X, bottom_of_plot*np.ones(X.shape[0]), linestyle=\"\", color=\"blue\", marker=\"|\", \n",
    "               markersize=12, label=\"$X_i, \\; i=1,\\ldots,%d$\" % n)\n",
    "        a.plot(design_pts, bottom_of_plot*np.ones(design_pts.shape[0]), linestyle=\"\", color=\"crimson\", marker=\"|\", \n",
    "               markersize=24, label=\"$x_i, \\; i=1,\\ldots,%d$\" % m)\n",
    "\n",
    "    else:\n",
    "        a.plot(X, np.zeros(X.shape[0]), linestyle=\"\", color=\"blue\", marker=\"|\", \n",
    "               markersize=12, label=\"$X_i, \\; i=1,\\ldots,%d$\" % n)\n",
    "        a.plot(design_pts, np.zeros(design_pts.shape[0]), linestyle=\"\", color=\"crimson\", marker=\"|\", \n",
    "               markersize=24, label=\"$x_i, \\; i=1,\\ldots,%d$\" % m)\n",
    "\n",
    "    if log_scale:\n",
    "        pass # a.legend(loc=\"best\", fontsize=fontsize)\n",
    "    a.set_xlabel(\"x\", fontsize=fontsize)\n",
    "    \n",
    "    if log_scale:\n",
    "        my_ylabel = \"log f(x)\"\n",
    "    else:\n",
    "        my_ylabel = \"f(x)\"\n",
    "    a.set_ylabel(my_ylabel, fontsize=fontsize)\n",
    "\n",
    "    if log_scale:\n",
    "        pass\n",
    "                \n",
    "    else:\n",
    "        if dist == \"uniform\":\n",
    "            my_ymax = 0.1375 # a.get_ylim()[1]\n",
    "            a.set_ylim([0,my_ymax])        \n",
    "        else:\n",
    "            a.set_ylim([0,1])\n",
    "\n",
    "    a.set_xlim([min(design_pts), max(design_pts)])\n",
    "    a.tick_params(axis='both', which='major', labelsize=fontsize)\n",
    "    a.tick_params(axis='both', which='minor', labelsize=fontsize)\n",
    "    \n",
    "    if log_scale:\n",
    "        fp = ff + dist + \"_n_\" + str(n) + \"_log_band.pdf\"\n",
    "    else:\n",
    "        fp = ff + dist + \"_n_\" + str(n) + \"_band.pdf\"\n",
    "    plt.savefig(fp, bbox_inches=\"tight\")"
   ]
  },
  {
   "cell_type": "code",
   "execution_count": 29,
   "metadata": {},
   "outputs": [
    {
     "data": {
      "image/png": "[encoded data removed]",
      "text/plain": [
       "<Figure size 576x360 with 1 Axes>"
      ]
     },
     "metadata": {},
     "output_type": "display_data"
    }
   ],
   "source": [
    "plot_band(dist, X, design_pts, hi, lo, opt_pts, ff, my_alpha, False)"
   ]
  },
  {
   "cell_type": "code",
   "execution_count": 30,
   "metadata": {},
   "outputs": [
    {
     "data": {
      "image/png": "[encoded data removed]",
      "text/plain": [
       "<Figure size 576x360 with 1 Axes>"
      ]
     },
     "metadata": {},
     "output_type": "display_data"
    }
   ],
   "source": [
    "plot_band(dist, X, design_pts, hi, lo, opt_pts, ff, my_alpha, True)"
   ]
  },
  {
   "cell_type": "code",
   "execution_count": null,
   "metadata": {},
   "outputs": [],
   "source": [
    "# All done."
   ]
  }
 ],
 "metadata": {
  "kernelspec": {
   "display_name": "Python 3",
   "language": "python",
   "name": "python3"
  },
  "language_info": {
   "codemirror_mode": {
    "name": "ipython",
    "version": 3
   },
   "file_extension": ".py",
   "mimetype": "text/x-python",
   "name": "python",
   "nbconvert_exporter": "python",
   "pygments_lexer": "ipython3",
   "version": "3.7.6"
  }
 },
 "nbformat": 4,
 "nbformat_minor": 2
}
