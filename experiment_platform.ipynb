{
 "cells": [
  {
   "cell_type": "code",
   "execution_count": 1,
   "metadata": {},
   "outputs": [],
   "source": [
    "from scipy.stats import norm\n",
    "from scipy.stats import beta\n",
    "from scipy.stats import gamma\n",
    "from scipy.stats import chi2\n",
    "\n",
    "import time as time\n",
    "import csv\n",
    "import pickle\n",
    "import datetime\n",
    "\n",
    "import autograd.numpy as np\n",
    "import matplotlib\n",
    "matplotlib.use('Agg')\n",
    "import matplotlib.pyplot as plt\n",
    "\n",
    "from confint import confint"
   ]
  },
  {
   "cell_type": "code",
   "execution_count": 2,
   "metadata": {},
   "outputs": [],
   "source": [
    "# data generation parameters\n",
    "n = 1000\n",
    "dist = \"gamma\"\n",
    "# dist = \"gaussian\"\n",
    "# dist = \"chisq\"\n",
    "# df = 3\n",
    "# dist = \"uniform\"\n",
    "\n",
    "#confidence level 1 - alpha\n",
    "alpha = 0.1\n",
    "\n",
    "#number of threads\n",
    "thread_num = 40\n",
    "\n",
    "#algorithm parameters\n",
    "opt_pts_ratio = 0.3 #subsampling ratio from design points to optimize over\n",
    "mu = 8.0#4.0(uniform)\n",
    "M = 7.0#(gamma)#12.0(gaussian)#5.0(uniform)#8.0(chisq)\n",
    "tau_max = 1e3#1e5#\n",
    "max_iters = 50\n",
    "min_iters = 15"
   ]
  },
  {
   "cell_type": "code",
   "execution_count": 3,
   "metadata": {},
   "outputs": [],
   "source": [
    "repeat_times = 1000\n",
    "\n",
    "stuff = {}\n",
    "is_save = True\n",
    "\n",
    "run_time_ave = 0\n",
    "num_nan_repeat = 0\n",
    "num_acc_nan_repeat = 0\n",
    "now = datetime.datetime.now()\n",
    "mmddyyhhmm = (\"%d_%d_%d_%d_%d\" % (now.month, now.day, now.year, now.hour, now.minute))\n",
    "part_of_out_fn = dist + \"_n_\" + str(n) + \"_uid_\" + mmddyyhhmm\n",
    "\n",
    "np.random.seed(1)"
   ]
  },
  {
   "cell_type": "code",
   "execution_count": 4,
   "metadata": {},
   "outputs": [
    {
     "name": "stdout",
     "output_type": "stream",
     "text": [
      "num design points to optimize 39\n"
     ]
    },
    {
     "name": "stderr",
     "output_type": "stream",
     "text": [
      "/Users/xinyueshen/anaconda3/lib/python3.7/site-packages/cvxpy/reductions/solvers/solving_chain.py:163: UserWarning: You are solving a parameterized problem that is not DPP. Because the problem is not DPP, subsequent solves will not be faster than the first one. For more information, see the documentation on Discplined Parametrized Programming, at\n",
      "\thttps://www.cvxpy.org/tutorial/advanced/index.html#disciplined-parametrized-programming\n",
      "  warnings.warn(dpp_error_msg)\n",
      "/Users/xinyueshen/anaconda3/lib/python3.7/site-packages/cvxpy/reductions/solvers/solving_chain.py:163: UserWarning: You are solving a parameterized problem that is not DPP. Because the problem is not DPP, subsequent solves will not be faster than the first one. For more information, see the documentation on Discplined Parametrized Programming, at\n",
      "\thttps://www.cvxpy.org/tutorial/advanced/index.html#disciplined-parametrized-programming\n",
      "  warnings.warn(dpp_error_msg)\n",
      "/Users/xinyueshen/anaconda3/lib/python3.7/site-packages/cvxpy/reductions/solvers/solving_chain.py:163: UserWarning: You are solving a parameterized problem that is not DPP. Because the problem is not DPP, subsequent solves will not be faster than the first one. For more information, see the documentation on Discplined Parametrized Programming, at\n",
      "\thttps://www.cvxpy.org/tutorial/advanced/index.html#disciplined-parametrized-programming\n",
      "  warnings.warn(dpp_error_msg)\n",
      "/Users/xinyueshen/anaconda3/lib/python3.7/site-packages/cvxpy/reductions/solvers/solving_chain.py:163: UserWarning: You are solving a parameterized problem that is not DPP. Because the problem is not DPP, subsequent solves will not be faster than the first one. For more information, see the documentation on Discplined Parametrized Programming, at\n",
      "\thttps://www.cvxpy.org/tutorial/advanced/index.html#disciplined-parametrized-programming\n",
      "  warnings.warn(dpp_error_msg)\n",
      "/Users/xinyueshen/anaconda3/lib/python3.7/site-packages/cvxpy/reductions/solvers/solving_chain.py:163: UserWarning: You are solving a parameterized problem that is not DPP. Because the problem is not DPP, subsequent solves will not be faster than the first one. For more information, see the documentation on Discplined Parametrized Programming, at\n",
      "\thttps://www.cvxpy.org/tutorial/advanced/index.html#disciplined-parametrized-programming\n",
      "  warnings.warn(dpp_error_msg)\n",
      "/Users/xinyueshen/anaconda3/lib/python3.7/site-packages/cvxpy/reductions/solvers/solving_chain.py:163: UserWarning: You are solving a parameterized problem that is not DPP. Because the problem is not DPP, subsequent solves will not be faster than the first one. For more information, see the documentation on Discplined Parametrized Programming, at\n",
      "\thttps://www.cvxpy.org/tutorial/advanced/index.html#disciplined-parametrized-programming\n",
      "  warnings.warn(dpp_error_msg)\n",
      "/Users/xinyueshen/anaconda3/lib/python3.7/site-packages/cvxpy/reductions/solvers/solving_chain.py:163: UserWarning: You are solving a parameterized problem that is not DPP. Because the problem is not DPP, subsequent solves will not be faster than the first one. For more information, see the documentation on Discplined Parametrized Programming, at\n",
      "\thttps://www.cvxpy.org/tutorial/advanced/index.html#disciplined-parametrized-programming\n",
      "  warnings.warn(dpp_error_msg)\n",
      "/Users/xinyueshen/anaconda3/lib/python3.7/site-packages/cvxpy/reductions/solvers/solving_chain.py:163: UserWarning: You are solving a parameterized problem that is not DPP. Because the problem is not DPP, subsequent solves will not be faster than the first one. For more information, see the documentation on Discplined Parametrized Programming, at\n",
      "\thttps://www.cvxpy.org/tutorial/advanced/index.html#disciplined-parametrized-programming\n",
      "  warnings.warn(dpp_error_msg)\n"
     ]
    },
    {
     "name": "stdout",
     "output_type": "stream",
     "text": [
      "trial 0 run_time 255.41604495048523 failure_num 0 failure_design_pts []\n"
     ]
    }
   ],
   "source": [
    "for repeat in range(repeat_times):\n",
    "    if (dist == \"gaussian\"):\n",
    "        X = np.random.randn(n)\n",
    "    elif (dist == \"gamma\"):\n",
    "        X = np.random.gamma(shape=1.0, size=n)\n",
    "    elif (dist == \"chisq\"):\n",
    "        X = np.random.chisquare(df=df, size=n)\n",
    "    elif(dist == \"uniform\"):\n",
    "        X = np.random.uniform(low=-10, high=10, size=n)\n",
    "    elif(dist == \"mixture\"):\n",
    "        n_minus1 = n / 2\n",
    "        n_plus1 = n - n_minus1\n",
    "        X = np.concatenate([-2 + np.random.randn(n_minus1), 2 + np.random.randn(n_plus1)])\n",
    "    else:\n",
    "        print(\"ERROR: unsupported distribution\")\n",
    "\n",
    "    X = np.sort(X)\n",
    "\n",
    "    conf_int = confint(n, X, alpha, opt_pts_ratio=opt_pts_ratio)\n",
    "    t0 = time.time()\n",
    "    conf_int.compute_pw_conf_ints(thread_num=thread_num, M=M, tau_max=tau_max, mu=mu, \n",
    "                                  max_iters=max_iters, min_iters=min_iters, want_verbose=False)\n",
    "    \n",
    "    t1 = time.time()\n",
    "    \n",
    "    run_time_ave += (t1 - t0) / repeat_times\n",
    "    num_acc_nan_repeat += conf_int.num_nans\n",
    "    if conf_int.num_nans != 0:\n",
    "        num_nan_repeat += 1\n",
    "    \n",
    "    if len(conf_int.idxes_of_design_pts_to_opt) <= 1:\n",
    "        continue\n",
    "\n",
    "    stuff[dist + str(repeat) + \"_sample_pts\"] = X\n",
    "    stuff[dist + str(repeat) + \"_design_pts\"] = X[conf_int.idxes_of_design_pts]\n",
    "    stuff[dist + str(repeat) + \"_opt_design_pts\"] = X[conf_int.idxes_of_design_pts_to_opt]\n",
    "    stuff[dist + str(repeat) + \"_lo\"] = conf_int.lo_opt_pts\n",
    "    stuff[dist + str(repeat) + \"_hi\"] = conf_int.hi_opt_pts\n",
    "    stuff[dist + str(repeat) + \"_improved_lo\"] = conf_int.improved_lo_opt_pts\n",
    "    \n",
    "    stuff[dist + str(repeat) + \"_extended_x\"] = conf_int.extended_x\n",
    "    stuff[dist + str(repeat) + \"_extended_lo\"] = conf_int.improved_lo_extended_pts\n",
    "    stuff[dist + str(repeat) + \"_extended_hi\"] = conf_int.improved_hi_extended_pts \n",
    "    \n",
    "    stuff[dist + str(repeat) + \"_run_time\"] = t1 - t0\n",
    "    stuff[dist + str(repeat) + \"_failure_num\"] = conf_int.num_nans\n",
    "    stuff[dist + str(repeat) + \"_failure_design_pts\"] = conf_int.failure_design_pts\n",
    "    \n",
    "    print(\"trial\", repeat, \"run_time\", t1 - t0, \"failure_num\", conf_int.num_nans, \"failure_design_pts\", conf_int.failure_design_pts)\n",
    "    "
   ]
  },
  {
   "cell_type": "code",
   "execution_count": 5,
   "metadata": {},
   "outputs": [
    {
     "name": "stdout",
     "output_type": "stream",
     "text": [
      "number of total nans 0\n",
      "number of repetitions containing nans 0\n",
      "ave run time 255.41604495048523\n"
     ]
    }
   ],
   "source": [
    "print(\"number of total nans\", num_acc_nan_repeat)\n",
    "print(\"number of repetitions containing nans\", num_nan_repeat)\n",
    "print(\"ave run time\", run_time_ave)"
   ]
  },
  {
   "cell_type": "code",
   "execution_count": 6,
   "metadata": {},
   "outputs": [],
   "source": [
    "if is_save:\n",
    "    pickle.dump(stuff, open(\"data_%s.pkl\" % (part_of_out_fn), \"wb\"))"
   ]
  }
 ],
 "metadata": {
  "kernelspec": {
   "display_name": "Python 3",
   "language": "python",
   "name": "python3"
  },
  "language_info": {
   "codemirror_mode": {
    "name": "ipython",
    "version": 3
   },
   "file_extension": ".py",
   "mimetype": "text/x-python",
   "name": "python",
   "nbconvert_exporter": "python",
   "pygments_lexer": "ipython3",
   "version": "3.7.6"
  }
 },
 "nbformat": 4,
 "nbformat_minor": 2
}
