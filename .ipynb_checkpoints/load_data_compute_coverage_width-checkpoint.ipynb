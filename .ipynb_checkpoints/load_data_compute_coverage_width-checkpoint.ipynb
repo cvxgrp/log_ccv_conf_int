{
 "cells": [
  {
   "cell_type": "code",
   "execution_count": 1,
   "metadata": {},
   "outputs": [],
   "source": [
    "import pickle\n",
    "from scipy.interpolate import interp1d\n",
    "import numpy as np\n",
    "\n",
    "from scipy.stats import norm\n",
    "from scipy.stats import beta\n",
    "from scipy.stats import gamma\n",
    "from scipy.stats import chi2"
   ]
  },
  {
   "cell_type": "code",
   "execution_count": 2,
   "metadata": {},
   "outputs": [],
   "source": [
    "# dist = \"gamma\"\n",
    "# n = 100\n",
    "# file = open(\"data/data_gamma_n_100_mod_3_uid_8_28_2020_1_21.pkl\",'rb')\n",
    "# n = 1000\n",
    "# file = open(\"data/data_gamma_n_1000_mod_3_uid_9_8_2020_16_11.pkl\", 'rb')\n",
    "# n = 10000\n",
    "# file = open(\"data/data_gamma_n_10000_mod_3_uid_9_7_2020_15_16.pkl\", 'rb')\n",
    "\n",
    "# dist = \"gaussian\"\n",
    "# n = 100\n",
    "# file = open(\"data/data_gaussian_n_100_mod_3_uid_8_30_2020_16_49.pkl\", 'rb')\n",
    "# n = 1000\n",
    "# file = open(\"data/data_gaussian_n_1000_mod_3_uid_8_31_2020_13_7.pkl\", 'rb')\n",
    "# n = 10000\n",
    "# file = open(\"data/data_gaussian_n_10000_mod_3_uid_9_7_2020_23_51.pkl\", 'rb')\n",
    "\n",
    "# dist = \"uniform\"\n",
    "# n = 100\n",
    "# file = open(\"data/data_uniform_n_100_mod_3_uid_8_30_2020_15_8.pkl\", 'rb')\n",
    "# n = 1000\n",
    "# file = open(\"data/data_uniform_n_1000_mod_3_uid_9_2_2020_2_8.pkl\", 'rb')\n",
    "# n = 10000\n",
    "# file = open(\"data/data_uniform_n_10000_mod_3_uid_9_7_2020_22_48.pkl\", 'rb')\n",
    "\n",
    "dist = \"chisq\"\n",
    "# n = 100\n",
    "# file = open(\"data/data_chisq_n_100_mod_3_uid_8_30_2020_13_30.pkl\", 'rb')\n",
    "n = 1000\n",
    "file = open(\"data/data_chisq_n_1000_mod_3_uid_9_3_2020_16_18.pkl\", 'rb')\n",
    "# n = 10000\n",
    "# file = open(\"data/data_chisq_n_10000_mod_3_uid_9_7_2020_21_14.pkl\", 'rb')\n",
    "\n",
    "stuff = pickle.load(file, encoding='latin1')\n",
    "file.close()\n",
    "\n",
    "is_save = False"
   ]
  },
  {
   "cell_type": "code",
   "execution_count": 3,
   "metadata": {},
   "outputs": [],
   "source": [
    "df = 3\n",
    "coverage_1 = [] #at design points\n",
    "coverage_2 = [] #sec 2.4 interpolation, at design points and extended points\n",
    "coverage_3 = [] #linearly interpolated upper bound, at grid points\n",
    "coverage_4 = [] #sec 2.4 iterpolation, at grid points.\n",
    "\n",
    "# first_quartile_width = []\n",
    "# median_width = []\n",
    "# third_quartile_width = []\n",
    "\n",
    "ave_first_quartile_width = []\n",
    "ave_median_width = []\n",
    "ave_third_quartile_width = []\n",
    "\n",
    "run_time = []\n",
    "\n",
    "for repeat in range(1000):\n",
    "    if not dist + str(repeat) + \"_design_pts\" in stuff:\n",
    "        print(\"missing\", repeat)\n",
    "        continue\n",
    "    design_pts = stuff[dist + str(repeat) + \"_design_pts\"]\n",
    "    num_design_pts = len(design_pts)\n",
    "    opt_pts = stuff[dist + str(repeat) + \"_opt_design_pts\"]\n",
    "    # hi at design points\n",
    "    hi_opt_pts = stuff[dist + str(repeat) + \"_hi\"]\n",
    "    # lo at design points\n",
    "    improved_lo_opt_pts = stuff[dist + str(repeat) + \"_improved_lo\"]\n",
    "    extended_x = stuff[dist + str(repeat) + \"_extended_x\"]\n",
    "    # hi at extended points\n",
    "    improved_lo_extended_pts = stuff[dist + str(repeat) + \"_extended_lo\"]\n",
    "    # lo at extended points\n",
    "    improved_hi_extended_pts = stuff[dist + str(repeat) + \"_extended_hi\"]\n",
    "    \n",
    "    #################################################################################compute width\n",
    "    first_sample_quartile = design_pts[num_design_pts // 4]\n",
    "    sample_median = design_pts[num_design_pts // 2]\n",
    "    third_sample_quartile = design_pts[int(num_design_pts // 4 * 3)]\n",
    "    first_quartile_idx_in_opt_pts = np.argmin(np.abs(opt_pts - first_sample_quartile))\n",
    "    median_idx_in_opt_pts = np.argmin(np.abs(opt_pts - sample_median))\n",
    "    third_quartile_idx_in_opt_pts = np.argmin(np.abs(opt_pts - third_sample_quartile))\n",
    "    #the closest point\n",
    "#     first_quartile_width.append(hi_opt_pts[first_quartile_idx_in_opt_pts] - improved_lo_opt_pts[first_quartile_idx_in_opt_pts])\n",
    "#     median_width.append(hi_opt_pts[median_idx_in_opt_pts] - improved_lo_opt_pts[median_idx_in_opt_pts])\n",
    "#     third_quartile_width.append(hi_opt_pts[third_quartile_idx_in_opt_pts] - improved_lo_opt_pts[third_quartile_idx_in_opt_pts])\n",
    "    #the bucket\n",
    "    separate_point_12 = (opt_pts[first_quartile_idx_in_opt_pts] + opt_pts[median_idx_in_opt_pts]) / 2\n",
    "    separate_point_23 = (opt_pts[third_quartile_idx_in_opt_pts] + opt_pts[median_idx_in_opt_pts]) / 2\n",
    "    w1 = np.mean(hi_opt_pts[opt_pts <= separate_point_12] - improved_lo_opt_pts[opt_pts <= separate_point_12])\n",
    "    w3 = np.mean(hi_opt_pts[opt_pts >= separate_point_23] - improved_lo_opt_pts[opt_pts >= separate_point_23])\n",
    "    w2 = np.mean(hi_opt_pts[np.multiply(opt_pts >= separate_point_12, opt_pts <= separate_point_23)] \n",
    "                 - improved_lo_opt_pts[np.multiply(opt_pts >= separate_point_12, opt_pts <= separate_point_23)])\n",
    "    ave_first_quartile_width.append(w1)\n",
    "    ave_median_width.append(w2)\n",
    "    ave_third_quartile_width.append(w3)\n",
    "    \n",
    "    ###############################################################################compute coverage\n",
    "    x_grid = np.linspace(np.min(opt_pts), np.max(opt_pts), num=10000, endpoint=True)\n",
    "    if dist == \"uniform\":\n",
    "        f_opt_pts = 1.0/20 * np.ones(len(opt_pts))\n",
    "        f_ext_pts = 1.0/20 * np.ones(len(extended_x))\n",
    "        f_grid = 1.0/20 * np.ones(len(x_grid))\n",
    "    elif dist == \"gaussian\":\n",
    "        f_opt_pts = norm.pdf(opt_pts)\n",
    "        f_ext_pts = norm.pdf(extended_x)\n",
    "        f_grid = norm.pdf(x_grid)\n",
    "    elif dist == \"gamma\":\n",
    "        f_opt_pts = gamma.pdf(opt_pts, 1.0)\n",
    "        f_ext_pts = gamma.pdf(extended_x, 1.0)\n",
    "        f_grid = gamma.pdf(x_grid, 1.0)\n",
    "    elif dist == \"chisq\":\n",
    "        f_opt_pts = chi2.pdf(opt_pts, df)\n",
    "        f_ext_pts = chi2.pdf(extended_x, df)\n",
    "        f_grid = chi2.pdf(x_grid, df)\n",
    "    else:\n",
    "        print(\"distribution not supported\")\n",
    "        break\n",
    "        \n",
    "    if np.all(hi_opt_pts >= f_opt_pts) and np.all(improved_lo_opt_pts <= f_opt_pts):#design points\n",
    "        coverage_1.append(1)\n",
    "    else:\n",
    "        coverage_1.append(0)\n",
    "        \n",
    "    if np.all(improved_hi_extended_pts >= f_ext_pts) and np.all(improved_lo_extended_pts <= f_ext_pts):#extended points\n",
    "        coverage_2.append(1)\n",
    "    else:\n",
    "        coverage_2.append(0)\n",
    "    \n",
    "    l_log_func = interp1d(opt_pts, np.log(improved_lo_opt_pts))\n",
    "    h_func = interp1d(opt_pts, hi_opt_pts)\n",
    "    if np.all(h_func(x_grid) >= f_grid) and np.all(np.exp(l_log_func(x_grid)) <= f_grid):#linear upper bound; grid\n",
    "        coverage_3.append(1)\n",
    "    else:\n",
    "        coverage_3.append(0)\n",
    "        \n",
    "    l_log_ext_func = interp1d(extended_x, np.log(improved_lo_extended_pts))\n",
    "    h_log_ext_func = interp1d(extended_x, np.log(improved_hi_extended_pts))\n",
    "    if np.all(np.exp(h_log_ext_func(x_grid)) >= f_grid) and np.all(np.exp(l_log_ext_func(x_grid)) <= f_grid):#M_i upper bound; grid\n",
    "        coverage_4.append(1)\n",
    "    else:\n",
    "        coverage_4.append(0)\n",
    "    \n",
    "    run_time.append(stuff[dist + str(repeat) + \"_run_time\"])"
   ]
  },
  {
   "cell_type": "markdown",
   "metadata": {},
   "source": [
    "## print results"
   ]
  },
  {
   "cell_type": "code",
   "execution_count": 4,
   "metadata": {},
   "outputs": [
    {
     "name": "stdout",
     "output_type": "stream",
     "text": [
      "945 1000\n",
      "945 1000\n",
      "945 1000\n",
      "944 1000\n"
     ]
    }
   ],
   "source": [
    "print(sum(coverage_1), len(coverage_1))\n",
    "print(sum(coverage_2), len(coverage_2))\n",
    "print(sum(coverage_3), len(coverage_3))\n",
    "print(sum(coverage_4), len(coverage_4))"
   ]
  },
  {
   "cell_type": "code",
   "execution_count": 5,
   "metadata": {},
   "outputs": [],
   "source": [
    "# print(sum(first_quartile_width) / len(first_quartile_width))\n",
    "# print(sum(median_width) / len(median_width))\n",
    "# print(sum(third_quartile_width) / len(third_quartile_width))"
   ]
  },
  {
   "cell_type": "code",
   "execution_count": 6,
   "metadata": {},
   "outputs": [],
   "source": [
    "# covered_mask = np.array(coverage_4) == 1\n",
    "# covered_first_quartile_width = np.array(first_quartile_width)[covered_mask]\n",
    "# covered_median_width = np.array(median_width)[covered_mask]\n",
    "# covered_third_quartile_width = np.array(third_quartile_width)[covered_mask]\n",
    "# print(len(covered_first_quartile_width))\n",
    "# print(np.mean(np.array(covered_first_quartile_width)))\n",
    "# print(np.mean(np.array(covered_median_width)))\n",
    "# print(np.mean(np.array(covered_third_quartile_width)))"
   ]
  },
  {
   "cell_type": "code",
   "execution_count": 7,
   "metadata": {},
   "outputs": [
    {
     "name": "stdout",
     "output_type": "stream",
     "text": [
      "945\n",
      "0.18187048181196394\n",
      "0.1129556602490201\n",
      "0.04870377197430136\n"
     ]
    }
   ],
   "source": [
    "covered_mask = np.array(coverage_3) == 1\n",
    "ave_covered_first_quartile_width = np.array(ave_first_quartile_width)[covered_mask]\n",
    "ave_covered_median_width = np.array(ave_median_width)[covered_mask]\n",
    "ave_covered_third_quartile_width = np.array(ave_third_quartile_width)[covered_mask]\n",
    "print(len(ave_covered_first_quartile_width))\n",
    "print(np.mean(np.array(ave_covered_first_quartile_width)))\n",
    "print(np.mean(np.array(ave_covered_median_width)))\n",
    "print(np.mean(np.array(ave_covered_third_quartile_width)))"
   ]
  },
  {
   "cell_type": "code",
   "execution_count": 8,
   "metadata": {},
   "outputs": [
    {
     "name": "stdout",
     "output_type": "stream",
     "text": [
      "135.3795825586319 494.5271114833259\n"
     ]
    }
   ],
   "source": [
    "print(np.mean(np.array(run_time)), np.var(np.array(run_time)))"
   ]
  },
  {
   "cell_type": "markdown",
   "metadata": {},
   "source": [
    "## save results"
   ]
  },
  {
   "cell_type": "code",
   "execution_count": 9,
   "metadata": {},
   "outputs": [],
   "source": [
    "import csv\n",
    "if is_save:\n",
    "    with open(\"coverage_rates_band_widths_all_new2.csv\", mode=\"a\") as file_obj:\n",
    "        csv_obj = csv.writer(file_obj, delimiter=\",\") # , quotechar='\"', quoting=csv.QUOTE_MINIMAL\n",
    "        csv_obj.writerow([dist, n, \n",
    "                          np.mean(np.array(coverage_1)), np.mean(np.array(coverage_2)),\n",
    "                          np.mean(np.array(coverage_3)), np.mean(np.array(coverage_4)),\n",
    "#                           np.mean(np.array(first_quartile_width)), \n",
    "#                           np.mean(np.array(median_width)),\n",
    "#                           np.mean(np.array(third_quartile_width)),\n",
    "#                           np.mean(np.array(covered_first_quartile_width)),\n",
    "#                           np.mean(np.array(covered_median_width)),\n",
    "#                           np.mean(np.array(covered_third_quartile_width)),\n",
    "                          np.mean(np.array(run_time)),\n",
    "                          np.mean(np.array(ave_covered_first_quartile_width)),\n",
    "                          np.mean(np.array(ave_covered_median_width)),\n",
    "                          np.mean(np.array(ave_covered_third_quartile_width))\n",
    "                          ])\n",
    "        file_obj.close()"
   ]
  },
  {
   "cell_type": "markdown",
   "metadata": {},
   "source": [
    "## plots"
   ]
  },
  {
   "cell_type": "code",
   "execution_count": 10,
   "metadata": {},
   "outputs": [
    {
     "data": {
      "text/plain": [
       "[<matplotlib.lines.Line2D at 0x1a236653d0>]"
      ]
     },
     "execution_count": 10,
     "metadata": {},
     "output_type": "execute_result"
    },
    {
     "data": {
      "image/png": "[encoded data removed]",
      "text/plain": [
       "<Figure size 432x288 with 1 Axes>"
      ]
     },
     "metadata": {
      "needs_background": "light"
     },
     "output_type": "display_data"
    }
   ],
   "source": [
    "import matplotlib\n",
    "matplotlib.use('Agg')\n",
    "import matplotlib.pyplot as plt\n",
    "%matplotlib inline\n",
    "\n",
    "plt.plot(x_grid, (h_log_ext_func(x_grid)))\n",
    "plt.plot(x_grid, np.log(f_grid))\n",
    "plt.plot(x_grid, (l_log_ext_func(x_grid)))\n",
    "\n",
    "plt.plot(extended_x, np.log(improved_hi_extended_pts), ' o')\n",
    "plt.plot(opt_pts, np.log(hi_opt_pts), ' .')"
   ]
  },
  {
   "cell_type": "code",
   "execution_count": 12,
   "metadata": {},
   "outputs": [
    {
     "data": {
      "text/plain": [
       "<matplotlib.legend.Legend at 0x1a238065d0>"
      ]
     },
     "execution_count": 12,
     "metadata": {},
     "output_type": "execute_result"
    },
    {
     "data": {
      "image/png": "[encoded data removed]",
      "text/plain": [
       "<Figure size 432x288 with 1 Axes>"
      ]
     },
     "metadata": {
      "needs_background": "light"
     },
     "output_type": "display_data"
    }
   ],
   "source": [
    "plt.hist(ave_first_quartile_width, label=\"first quartile\", alpha=0.8)\n",
    "plt.hist(ave_median_width, label=\"median\", alpha=0.8)\n",
    "plt.hist(ave_third_quartile_width, label=\"third quartile\", alpha=0.8)\n",
    "plt.title(\"Histogram of Band Width\", fontsize=14)\n",
    "plt.legend(fontsize=14)"
   ]
  },
  {
   "cell_type": "code",
   "execution_count": 13,
   "metadata": {},
   "outputs": [
    {
     "data": {
      "text/plain": [
       "(array([964.,   0.,  12.,  22.,   0.,   0.,   0.,   0.,   0.,   2.]),\n",
       " array([119.49172282, 153.49600406, 187.50028529, 221.50456653,\n",
       "        255.50884776, 289.513129  , 323.51741023, 357.52169147,\n",
       "        391.5259727 , 425.53025393, 459.53453517]),\n",
       " <a list of 10 Patch objects>)"
      ]
     },
     "execution_count": 13,
     "metadata": {},
     "output_type": "execute_result"
    },
    {
     "data": {
      "image/png": "[encoded data removed]",
      "text/plain": [
       "<Figure size 432x288 with 1 Axes>"
      ]
     },
     "metadata": {
      "needs_background": "light"
     },
     "output_type": "display_data"
    }
   ],
   "source": [
    "plt.hist(run_time)\n",
    "plt.title(\"Histogram of Run Time\", fontsize=14)"
   ]
  },
  {
   "cell_type": "code",
   "execution_count": null,
   "metadata": {},
   "outputs": [],
   "source": []
  }
 ],
 "metadata": {
  "kernelspec": {
   "display_name": "Python 3",
   "language": "python",
   "name": "python3"
  },
  "language_info": {
   "codemirror_mode": {
    "name": "ipython",
    "version": 3
   },
   "file_extension": ".py",
   "mimetype": "text/x-python",
   "name": "python",
   "nbconvert_exporter": "python",
   "pygments_lexer": "ipython3",
   "version": "3.7.6"
  }
 },
 "nbformat": 4,
 "nbformat_minor": 4
}
